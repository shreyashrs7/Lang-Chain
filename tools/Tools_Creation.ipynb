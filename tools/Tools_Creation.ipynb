{
 "cells": [
  {
   "cell_type": "code",
   "execution_count": null,
   "id": "8d1e9ec6",
   "metadata": {},
   "outputs": [
    {
     "name": "stdout",
     "output_type": "stream",
     "text": [
      "Requirement already satisfied: langchain in c:\\users\\urp20\\appdata\\local\\programs\\python\\python311\\lib\\site-packages (0.3.21)\n",
      "Requirement already satisfied: langchain-core in c:\\users\\urp20\\appdata\\local\\programs\\python\\python311\\lib\\site-packages (0.3.66)\n",
      "Requirement already satisfied: langchain-community in c:\\users\\urp20\\appdata\\local\\programs\\python\\python311\\lib\\site-packages (0.3.20)\n",
      "Requirement already satisfied: pydantic in c:\\users\\urp20\\appdata\\local\\programs\\python\\python311\\lib\\site-packages (2.10.6)\n",
      "Collecting duckduckgo-search\n",
      "  Downloading duckduckgo_search-8.1.1-py3-none-any.whl.metadata (16 kB)\n",
      "Collecting langchain_experimental\n",
      "  Downloading langchain_experimental-0.3.4-py3-none-any.whl.metadata (1.7 kB)\n",
      "Requirement already satisfied: langchain-text-splitters<1.0.0,>=0.3.7 in c:\\users\\urp20\\appdata\\local\\programs\\python\\python311\\lib\\site-packages (from langchain) (0.3.7)\n",
      "Requirement already satisfied: langsmith<0.4,>=0.1.17 in c:\\users\\urp20\\appdata\\local\\programs\\python\\python311\\lib\\site-packages (from langchain) (0.3.45)\n",
      "Requirement already satisfied: SQLAlchemy<3,>=1.4 in c:\\users\\urp20\\appdata\\local\\programs\\python\\python311\\lib\\site-packages (from langchain) (2.0.39)\n",
      "Requirement already satisfied: requests<3,>=2 in c:\\users\\urp20\\appdata\\local\\programs\\python\\python311\\lib\\site-packages (from langchain) (2.32.3)\n",
      "Requirement already satisfied: PyYAML>=5.3 in c:\\users\\urp20\\appdata\\local\\programs\\python\\python311\\lib\\site-packages (from langchain) (6.0)\n",
      "Requirement already satisfied: tenacity!=8.4.0,<10.0.0,>=8.1.0 in c:\\users\\urp20\\appdata\\local\\programs\\python\\python311\\lib\\site-packages (from langchain-core) (8.2.3)\n",
      "Requirement already satisfied: jsonpatch<2.0,>=1.33 in c:\\users\\urp20\\appdata\\local\\programs\\python\\python311\\lib\\site-packages (from langchain-core) (1.33)\n",
      "Requirement already satisfied: packaging<25,>=23.2 in c:\\users\\urp20\\appdata\\local\\programs\\python\\python311\\lib\\site-packages (from langchain-core) (24.2)\n",
      "Requirement already satisfied: typing-extensions>=4.7 in c:\\users\\urp20\\appdata\\local\\programs\\python\\python311\\lib\\site-packages (from langchain-core) (4.12.2)\n",
      "Requirement already satisfied: aiohttp<4.0.0,>=3.8.3 in c:\\users\\urp20\\appdata\\local\\programs\\python\\python311\\lib\\site-packages (from langchain-community) (3.11.14)\n",
      "Requirement already satisfied: dataclasses-json<0.7,>=0.5.7 in c:\\users\\urp20\\appdata\\local\\programs\\python\\python311\\lib\\site-packages (from langchain-community) (0.6.7)\n",
      "Requirement already satisfied: pydantic-settings<3.0.0,>=2.4.0 in c:\\users\\urp20\\appdata\\local\\programs\\python\\python311\\lib\\site-packages (from langchain-community) (2.8.1)\n",
      "Requirement already satisfied: httpx-sse<1.0.0,>=0.4.0 in c:\\users\\urp20\\appdata\\local\\programs\\python\\python311\\lib\\site-packages (from langchain-community) (0.4.0)\n",
      "Requirement already satisfied: numpy<3,>=1.26.2 in c:\\users\\urp20\\appdata\\local\\programs\\python\\python311\\lib\\site-packages (from langchain-community) (1.26.4)\n",
      "Requirement already satisfied: annotated-types>=0.6.0 in c:\\users\\urp20\\appdata\\local\\programs\\python\\python311\\lib\\site-packages (from pydantic) (0.6.0)\n",
      "Requirement already satisfied: pydantic-core==2.27.2 in c:\\users\\urp20\\appdata\\local\\programs\\python\\python311\\lib\\site-packages (from pydantic) (2.27.2)\n",
      "Collecting click>=8.1.8 (from duckduckgo-search)\n",
      "  Downloading click-8.2.1-py3-none-any.whl.metadata (2.5 kB)\n",
      "Collecting primp>=0.15.0 (from duckduckgo-search)\n",
      "  Downloading primp-0.15.0-cp38-abi3-win_amd64.whl.metadata (13 kB)\n",
      "Requirement already satisfied: lxml>=5.3.0 in c:\\users\\urp20\\appdata\\local\\programs\\python\\python311\\lib\\site-packages (from duckduckgo-search) (5.4.0)\n",
      "Requirement already satisfied: aiohappyeyeballs>=2.3.0 in c:\\users\\urp20\\appdata\\local\\programs\\python\\python311\\lib\\site-packages (from aiohttp<4.0.0,>=3.8.3->langchain-community) (2.6.1)\n",
      "Requirement already satisfied: aiosignal>=1.1.2 in c:\\users\\urp20\\appdata\\local\\programs\\python\\python311\\lib\\site-packages (from aiohttp<4.0.0,>=3.8.3->langchain-community) (1.3.2)\n",
      "Requirement already satisfied: attrs>=17.3.0 in c:\\users\\urp20\\appdata\\local\\programs\\python\\python311\\lib\\site-packages (from aiohttp<4.0.0,>=3.8.3->langchain-community) (25.1.0)\n",
      "Requirement already satisfied: frozenlist>=1.1.1 in c:\\users\\urp20\\appdata\\local\\programs\\python\\python311\\lib\\site-packages (from aiohttp<4.0.0,>=3.8.3->langchain-community) (1.5.0)\n",
      "Requirement already satisfied: multidict<7.0,>=4.5 in c:\\users\\urp20\\appdata\\local\\programs\\python\\python311\\lib\\site-packages (from aiohttp<4.0.0,>=3.8.3->langchain-community) (6.2.0)\n",
      "Requirement already satisfied: propcache>=0.2.0 in c:\\users\\urp20\\appdata\\local\\programs\\python\\python311\\lib\\site-packages (from aiohttp<4.0.0,>=3.8.3->langchain-community) (0.3.1)\n",
      "Requirement already satisfied: yarl<2.0,>=1.17.0 in c:\\users\\urp20\\appdata\\local\\programs\\python\\python311\\lib\\site-packages (from aiohttp<4.0.0,>=3.8.3->langchain-community) (1.18.3)\n",
      "Requirement already satisfied: colorama in c:\\users\\urp20\\appdata\\local\\programs\\python\\python311\\lib\\site-packages (from click>=8.1.8->duckduckgo-search) (0.4.6)\n",
      "Requirement already satisfied: marshmallow<4.0.0,>=3.18.0 in c:\\users\\urp20\\appdata\\local\\programs\\python\\python311\\lib\\site-packages (from dataclasses-json<0.7,>=0.5.7->langchain-community) (3.26.1)\n",
      "Requirement already satisfied: typing-inspect<1,>=0.4.0 in c:\\users\\urp20\\appdata\\local\\programs\\python\\python311\\lib\\site-packages (from dataclasses-json<0.7,>=0.5.7->langchain-community) (0.9.0)\n",
      "Requirement already satisfied: jsonpointer>=1.9 in c:\\users\\urp20\\appdata\\local\\programs\\python\\python311\\lib\\site-packages (from jsonpatch<2.0,>=1.33->langchain-core) (2.3)\n",
      "Requirement already satisfied: httpx<1,>=0.23.0 in c:\\users\\urp20\\appdata\\local\\programs\\python\\python311\\lib\\site-packages (from langsmith<0.4,>=0.1.17->langchain) (0.28.1)\n",
      "Requirement already satisfied: orjson<4.0.0,>=3.9.14 in c:\\users\\urp20\\appdata\\local\\programs\\python\\python311\\lib\\site-packages (from langsmith<0.4,>=0.1.17->langchain) (3.10.16)\n",
      "Requirement already satisfied: requests-toolbelt<2.0.0,>=1.0.0 in c:\\users\\urp20\\appdata\\local\\programs\\python\\python311\\lib\\site-packages (from langsmith<0.4,>=0.1.17->langchain) (1.0.0)\n",
      "Requirement already satisfied: zstandard<0.24.0,>=0.23.0 in c:\\users\\urp20\\appdata\\local\\programs\\python\\python311\\lib\\site-packages (from langsmith<0.4,>=0.1.17->langchain) (0.23.0)\n",
      "Requirement already satisfied: python-dotenv>=0.21.0 in c:\\users\\urp20\\appdata\\local\\programs\\python\\python311\\lib\\site-packages (from pydantic-settings<3.0.0,>=2.4.0->langchain-community) (1.0.1)\n",
      "Requirement already satisfied: charset-normalizer<4,>=2 in c:\\users\\urp20\\appdata\\local\\programs\\python\\python311\\lib\\site-packages (from requests<3,>=2->langchain) (3.2.0)\n",
      "Requirement already satisfied: idna<4,>=2.5 in c:\\users\\urp20\\appdata\\local\\programs\\python\\python311\\lib\\site-packages (from requests<3,>=2->langchain) (3.4)\n",
      "Requirement already satisfied: urllib3<3,>=1.21.1 in c:\\users\\urp20\\appdata\\local\\programs\\python\\python311\\lib\\site-packages (from requests<3,>=2->langchain) (2.0.4)\n",
      "Requirement already satisfied: certifi>=2017.4.17 in c:\\users\\urp20\\appdata\\local\\programs\\python\\python311\\lib\\site-packages (from requests<3,>=2->langchain) (2023.7.22)\n",
      "Requirement already satisfied: greenlet!=0.4.17 in c:\\users\\urp20\\appdata\\local\\programs\\python\\python311\\lib\\site-packages (from SQLAlchemy<3,>=1.4->langchain) (3.1.1)\n",
      "Requirement already satisfied: anyio in c:\\users\\urp20\\appdata\\local\\programs\\python\\python311\\lib\\site-packages (from httpx<1,>=0.23.0->langsmith<0.4,>=0.1.17->langchain) (3.6.2)\n",
      "Requirement already satisfied: httpcore==1.* in c:\\users\\urp20\\appdata\\local\\programs\\python\\python311\\lib\\site-packages (from httpx<1,>=0.23.0->langsmith<0.4,>=0.1.17->langchain) (1.0.7)\n",
      "Requirement already satisfied: h11<0.15,>=0.13 in c:\\users\\urp20\\appdata\\local\\programs\\python\\python311\\lib\\site-packages (from httpcore==1.*->httpx<1,>=0.23.0->langsmith<0.4,>=0.1.17->langchain) (0.14.0)\n",
      "Requirement already satisfied: mypy-extensions>=0.3.0 in c:\\users\\urp20\\appdata\\local\\programs\\python\\python311\\lib\\site-packages (from typing-inspect<1,>=0.4.0->dataclasses-json<0.7,>=0.5.7->langchain-community) (1.0.0)\n",
      "Requirement already satisfied: sniffio>=1.1 in c:\\users\\urp20\\appdata\\local\\programs\\python\\python311\\lib\\site-packages (from anyio->httpx<1,>=0.23.0->langsmith<0.4,>=0.1.17->langchain) (1.3.0)\n",
      "Downloading duckduckgo_search-8.1.1-py3-none-any.whl (18 kB)\n",
      "Downloading langchain_experimental-0.3.4-py3-none-any.whl (209 kB)\n",
      "Downloading click-8.2.1-py3-none-any.whl (102 kB)\n",
      "Downloading primp-0.15.0-cp38-abi3-win_amd64.whl (3.1 MB)\n",
      "   ---------------------------------------- 0.0/3.1 MB ? eta -:--:--\n",
      "   --- ------------------------------------ 0.3/3.1 MB ? eta -:--:--\n",
      "   --------- ------------------------------ 0.8/3.1 MB 2.1 MB/s eta 0:00:02\n",
      "   ------------- -------------------------- 1.0/3.1 MB 1.7 MB/s eta 0:00:02\n",
      "   ---------------- ----------------------- 1.3/3.1 MB 1.6 MB/s eta 0:00:02\n",
      "   ----------------------- ---------------- 1.8/3.1 MB 1.7 MB/s eta 0:00:01\n",
      "   ----------------------------- ---------- 2.4/3.1 MB 1.9 MB/s eta 0:00:01\n",
      "   ------------------------------------ --- 2.9/3.1 MB 2.0 MB/s eta 0:00:01\n",
      "   ---------------------------------------- 3.1/3.1 MB 2.0 MB/s eta 0:00:00\n",
      "Installing collected packages: primp, click, duckduckgo-search, langchain_experimental\n",
      "  Attempting uninstall: click\n",
      "    Found existing installation: click 8.1.7\n",
      "    Uninstalling click-8.1.7:\n",
      "      Successfully uninstalled click-8.1.7\n",
      "Successfully installed click-8.2.1 duckduckgo-search-8.1.1 langchain_experimental-0.3.4 primp-0.15.0\n"
     ]
    },
    {
     "name": "stderr",
     "output_type": "stream",
     "text": [
      "WARNING: Ignoring invalid distribution ~rotobuf (C:\\Users\\urp20\\AppData\\Local\\Programs\\Python\\Python311\\Lib\\site-packages)\n",
      "WARNING: Ignoring invalid distribution ~umpy (C:\\Users\\urp20\\AppData\\Local\\Programs\\Python\\Python311\\Lib\\site-packages)\n",
      "WARNING: Ignoring invalid distribution ~rotobuf (C:\\Users\\urp20\\AppData\\Local\\Programs\\Python\\Python311\\Lib\\site-packages)\n",
      "WARNING: Ignoring invalid distribution ~umpy (C:\\Users\\urp20\\AppData\\Local\\Programs\\Python\\Python311\\Lib\\site-packages)\n",
      "WARNING: Ignoring invalid distribution ~rotobuf (C:\\Users\\urp20\\AppData\\Local\\Programs\\Python\\Python311\\Lib\\site-packages)\n",
      "WARNING: Ignoring invalid distribution ~umpy (C:\\Users\\urp20\\AppData\\Local\\Programs\\Python\\Python311\\Lib\\site-packages)\n",
      "ERROR: pip's dependency resolver does not currently take into account all the packages that are installed. This behaviour is the source of the following dependency conflicts.\n",
      "streamlit 1.29.0 requires packaging<24,>=16.8, but you have packaging 24.2 which is incompatible.\n",
      "streamlit 1.29.0 requires protobuf<5,>=3.20, but you have protobuf 5.28.3 which is incompatible.\n",
      "\n",
      "[notice] A new release of pip is available: 25.0 -> 25.1.1\n",
      "[notice] To update, run: python.exe -m pip install --upgrade pip\n"
     ]
    }
   ],
   "source": [
    "! pip install langchain langchain-core langchain-community pydantic duckduckgo-search langchain_experimental"
   ]
  },
  {
   "cell_type": "markdown",
   "id": "39e4c37b",
   "metadata": {},
   "source": [
    "##### Built in tools - DuckDuckGoSearchRun"
   ]
  },
  {
   "cell_type": "code",
   "execution_count": null,
   "id": "a3e6a4de",
   "metadata": {},
   "outputs": [
    {
     "name": "stderr",
     "output_type": "stream",
     "text": [
      "C:\\Users\\urp20\\AppData\\Local\\Programs\\Python\\Python311\\Lib\\site-packages\\langchain_community\\utilities\\duckduckgo_search.py:63: RuntimeWarning: This package (`duckduckgo_search`) has been renamed to `ddgs`! Use `pip install ddgs` instead.\n",
      "  with DDGS() as ddgs:\n"
     ]
    },
    {
     "name": "stdout",
     "output_type": "stream",
     "text": [
      "In order to qualify and enroll in the Fee-Free Overdraft feature, you must receive a minimum of $200 or more in Eligible Direct Deposits into your Current Account over the preceding 35-day … No matter what your title or how long you've worked here, at Current everyone is integral to making our mission possible. Here, no task is beneath us. We keep an open mind, because … Learn more about our Personal Checking accounts and the benefits of using Current We’re combining industry-leading technology and highly skilled talent to improve the financial outcomes for millions of Americans. Join us! Find all you need to cover Current, including our company purpose, history, details on product offerings, executive bios, and brand assets and logos. By using the Current trademarks and …\n"
     ]
    }
   ],
   "source": [
    "from langchain_community.tools import DuckDuckGoSearchRun\n",
    "\n",
    "\n",
    "search_tools =  DuckDuckGoSearchRun()\n",
    "result = search_tools.invoke(\"What is current news in India today\")\n",
    "print(result)"
   ]
  },
  {
   "cell_type": "markdown",
   "id": "697eab94",
   "metadata": {},
   "source": [
    "###### Built In tools - ShellTools"
   ]
  },
  {
   "cell_type": "code",
   "execution_count": 17,
   "id": "d5666a74",
   "metadata": {},
   "outputs": [
    {
     "name": "stdout",
     "output_type": "stream",
     "text": [
      "Executing command:\n",
      " ls\n",
      "50_Startups.csv\n",
      "AI_Enhanced_Learning_Assistant1.ipynb\n",
      "AI_Enhanced_Learning_assistant.ipynb\n",
      "AI_model.pkl\n",
      "AI_model.pkl1\n",
      "ANN_Implementation.ipynb\n",
      "ANN_Model_2.ipynb\n",
      "Adpython.py.ipynb\n",
      "Advertising.csv\n",
      "Aggregate_rank.py.ipynb\n",
      "All_Basic_to_Advanced_plot.ipynb\n",
      "Arrayoper.py.ipynb\n",
      "Bagging_model.pkl\n",
      "Baggingword_TF_IDF.ipynb\n",
      "Best_model.pkl\n",
      "CAR DETAILS.csv\n",
      "CNN_Implementation.ipynb\n",
      "CNN_Model.ipynb\n",
      "Capstone_project\n",
      "Car price prediction with Machine Learning .ipynb\n",
      "Cell Phone Survey.csv\n",
      "Churn_Modelling.csv\n",
      "Classification_algorithm_using heartfailuredata.ipynb\n",
      "Clustering_Workout_Feetness_Tracker_Data.ipynb\n",
      "Clustering_on_Production_Data.ipynb\n",
      "Company_Data_Analysis.ipynb\n",
      "Company_Sales_Data_Regression_Model.ipynb\n",
      "Data Science pr\n",
      "Data science project 1.ipynb\n",
      "Data_science_project 3.ipynb\n",
      "Datacleaning.py.ipynb\n",
      "Datapreprocessing2.py.ipynb\n",
      "Datapreprocessing3.py.ipynb\n",
      "Dataprocessing1.py.ipynb\n",
      "Decision_Tree.pkl\n",
      "Decision_Tree1.pkl\n",
      "Decision_tree.py.ipynb\n",
      "Diabetics_Prediction_Model.ipynb\n",
      "Dimension_Reduction_PCA.py.ipynb\n",
      "Downloads\n",
      "EDA_on_50000_Sales Data.ipynb\n",
      "Electric_Production.csv\n",
      "Ex_data_Analysis2.py.ipynb\n",
      "Ex_data_analysis1.py.ipynb\n",
      "Facebook_Live.csv\n",
      "File_IO.ipynb\n",
      "Forest_Fire_prevention.ipynb\n",
      "Forest_fire.csv\n",
      "Global_Superstore(CSV).csv\n",
      "Hand_written_digit_classification.ipynb\n",
      "Heart_Failure.csv\n",
      "Height-Weight.csv\n",
      "Height_weight_train_model\n",
      "Height_weight_train_model.pkl\n",
      "Height_wise weight Prediction.ipynb\n",
      "Hist_pieplot.py.ipynb\n",
      "IMDb Movies India.csv\n",
      "IMDb_movies.csv\n",
      "Imagnature2.jpg\n",
      "Imanature1.jpg\n",
      "Insurance_charge_prediction_regression_model.ipynb\n",
      "Lasso_model.pkl\n",
      "Line_Scatterplot.py.ipynb\n",
      "LinearRegression.py.ipynb\n",
      "Linear_Regressor.pkl\n",
      "Linear_Regressor1.pkl\n",
      "Lineplot.png\n",
      "Logistic_regression.py.ipynb\n",
      "Logistic_regression_Diabetics_model.pkl\n",
      "ML_web_app.py\n",
      "ML_webapp.py\n",
      "Machine Learning.py.ipynb\n",
      "MachineLearning[Major].py.ipynb\n",
      "Mar_benz_train_test_using_regression.ipynb\n",
      "Merge_append_concat_join.py.ipynb\n",
      "MiniProjectTY\n",
      "Multiple_3dplot.py.ipynb\n",
      "New folder\n",
      "Numpy_And_Pandas.ipynb\n",
      "OTP_Generation.ipynb\n",
      "Opencv_Adding_txt.ipynb\n",
      "Opencv_Basic_code.ipynb\n",
      "Pandasintro1.py.ipynb\n",
      "Pandasintro2.py.ipynb\n",
      "Pandasmat.py.ipynb\n",
      "Pattern_Printing.ipynb\n",
      "Pivottable_apply_where.py.ipynb\n",
      "Plotly_library_all_plot.ipynb\n",
      "Production_Regression_Model.ipynb\n",
      "Python program\n",
      "Python.csv\n",
      "RAG.ipynb\n",
      "RNN_FakeNewClassifierusingBidirectionalLSTM.ipynb\n",
      "RNN_Spam_detection_Model.ipynb\n",
      "RandomForest_Diabetics_model.pkl\n",
      "Random_Forest.pkl\n",
      "Random_Forest1.pkl\n",
      "Random_Forest_model.pkl\n",
      "Ridge_model.pkl\n",
      "SMSSpamCollection.txt\n",
      "Salary_Prediction_Model.ipynb\n",
      "Sales analysis project\n",
      "StudentsPerformance.csv\n",
      "Subject_Data.csv\n",
      "SuperStore_Analysis.ipynb\n",
      "Tools_Creation.ipynb\n",
      "Top100mostStreamed.csv\n",
      "UNEMPLOYMENT ANALYSIS WITH PYTHONE.ipynb\n",
      "Unemployment in India.csv\n",
      "Untitled Folder 1\n",
      "Untitled.ipynb\n",
      "Untitled1.ipynb\n",
      "Untitled10.ipynb\n",
      "Untitled11.ipynb\n",
      "Untitled12.ipynb\n",
      "Untitled13.ipynb\n",
      "Untitled14.ipynb\n",
      "Untitled15.ipynb\n",
      "Untitled16.ipynb\n",
      "Untitled17.ipynb\n",
      "Untitled18.ipynb\n",
      "Untitled19.ipynb\n",
      "Untitled2.ipynb\n",
      "Untitled20.ipynb\n",
      "Untitled21.ipynb\n",
      "Untitled22.ipynb\n",
      "Untitled23.ipynb\n",
      "Untitled24.ipynb\n",
      "Untitled25.ipynb\n",
      "Untitled26.ipynb\n",
      "Untitled27.ipynb\n",
      "Untitled28.ipynb\n",
      "Untitled29.ipynb\n",
      "Untitled3.ipynb\n",
      "Untitled30.ipynb\n",
      "Untitled31.ipynb\n",
      "Untitled32.ipynb\n",
      "Untitled33.ipynb\n",
      "Untitled34.ipynb\n",
      "Untitled35.ipynb\n",
      "Untitled36.ipynb\n",
      "Untitled37.ipynb\n",
      "Untitled38.ipynb\n",
      "Untitled39.ipynb\n",
      "Untitled4.ipynb\n",
      "Untitled40.ipynb\n",
      "Untitled41.ipynb\n",
      "Untitled42.ipynb\n",
      "Untitled43.ipynb\n",
      "Untitled44.ipynb\n",
      "Untitled45.ipynb\n",
      "Untitled46.ipynb\n",
      "Untitled47.ipynb\n",
      "Untitled48.ipynb\n",
      "Untitled49.ipynb\n",
      "Untitled5.ipynb\n",
      "Untitled50.ipynb\n",
      "Untitled51.ipynb\n",
      "Untitled52.ipynb\n",
      "Untitled53.ipynb\n",
      "Untitled54.ipynb\n",
      "Untitled55.ipynb\n",
      "Untitled56.ipynb\n",
      "Untitled57.ipynb\n",
      "Untitled58.ipynb\n",
      "Untitled59.ipynb\n",
      "Untitled6.ipynb\n",
      "Untitled60.ipynb\n",
      "Untitled61.ipynb\n",
      "Untitled62.ipynb\n",
      "Untitled63.ipynb\n",
      "Untitled64.ipynb\n",
      "Untitled65.ipynb\n",
      "Untitled66.ipynb\n",
      "Untitled67.ipynb\n",
      "Untitled68.ipynb\n",
      "Untitled69.ipynb\n",
      "Untitled7.ipynb\n",
      "Untitled70.ipynb\n",
      "Untitled71.ipynb\n",
      "Untitled72.ipynb\n",
      "Untitled73.ipynb\n",
      "Untitled74.ipynb\n",
      "Untitled75.ipynb\n",
      "Untitled76.ipynb\n",
      "Untitled77.ipynb\n",
      "Untitled78.ipynb\n",
      "Untitled79.ipynb\n",
      "Untitled8.ipynb\n",
      "Untitled80.ipynb\n",
      "Untitled81.ipynb\n",
      "Untitled82.ipynb\n",
      "Untitled83.ipynb\n",
      "Untitled84.ipynb\n",
      "Untitled85.ipynb\n",
      "Untitled86.ipynb\n",
      "Untitled9.ipynb\n",
      "VW_PRODUCTION.csv\n",
      "Vector_Store.ipynb\n",
      "Walmart.csv\n",
      "a.csv\n",
      "advanced_python_practice.py.ipynb\n",
      "article_data.csv\n",
      "artist and popuarity.png\n",
      "barplot.py.ipynb\n",
      "bike_shar_ridge_lasso_knn_linear.py.ipynb\n",
      "bike_sharing_daily.csv\n",
      "box_stackplot.py.ipynb\n",
      "car data.csv\n",
      "correlationkfoldcv.py.ipynb\n",
      "country_wise_latest.csv\n",
      "data.dat\n",
      "data_model.pkl\n",
      "datetime_windows.py.ipynb\n",
      "desktop.ini\n",
      "embeddings.pkl\n",
      "faiss_index.pkl\n",
      "filter_sort_groupby.py.ipynb\n",
      "german_credit_data.csv\n",
      "imagnature3.jpg\n",
      "imagnature4.jpg\n",
      "imagnature5.jpg\n",
      "imdb.csv\n",
      "insurance.csv\n",
      "lambda apply_assign.py.ipynb\n",
      "laptop_price_data (1).csv\n",
      "laptop_price_data.csv\n",
      "linearalgebra.py.ipynb\n",
      "log_reg_forest_prevention_model.pkl\n",
      "lr_salary_model.pkl\n",
      "lstm.pkl\n",
      "mer_benz_test.csv\n",
      "mer_benz_train.csv\n",
      "my_chroma_db\n",
      "news.csv\n",
      "oil_spill.csv\n",
      "opencv_resizing_multiple_Image_slideshow.ipynb\n",
      "otto_product_test.csv\n",
      "otto_product_train.csv\n",
      "rf_model_otto_product.pkl\n",
      "rf_salary_model.pkl\n",
      "sales prediction using python.ipynb\n",
      "seaborn.py.ipynb\n",
      "sentence_transformer.pkl\n",
      "sentence_transformer1.pkl\n",
      "sid.FDS\n",
      "statistic assign.py.ipynb\n",
      "statistic_fun.py.ipynb\n",
      "tfidf_matrix.pkl\n",
      "tfidf_vectorizer.pkl\n",
      "train.csv\n",
      "word_embedding.ipynb\n",
      "\n"
     ]
    },
    {
     "name": "stderr",
     "output_type": "stream",
     "text": [
      "C:\\Users\\urp20\\AppData\\Local\\Programs\\Python\\Python311\\Lib\\site-packages\\langchain_community\\tools\\shell\\tool.py:33: UserWarning: The shell tool has no safeguards by default. Use at your own risk.\n",
      "  warnings.warn(\n"
     ]
    }
   ],
   "source": [
    "from langchain_community.tools import ShellTool\n",
    "\n",
    "Shell_tools = ShellTool()\n",
    "result = search_tools.invoke(\"ls\")\n",
    "print(result)"
   ]
  },
  {
   "cell_type": "markdown",
   "id": "2b7d0aac",
   "metadata": {},
   "source": [
    "###### Custom_Tools"
   ]
  },
  {
   "cell_type": "code",
   "execution_count": 18,
   "id": "55d35193",
   "metadata": {},
   "outputs": [],
   "source": [
    "from langchain_core.tools import tool"
   ]
  },
  {
   "cell_type": "code",
   "execution_count": 22,
   "id": "206d5be9",
   "metadata": {},
   "outputs": [],
   "source": [
    "# Tools Creation\n",
    "\n",
    "def multiply(a,b):\n",
    "    \"Multiply two numbers\"\n",
    "    return a*b"
   ]
  },
  {
   "cell_type": "code",
   "execution_count": 23,
   "id": "9c020c2b",
   "metadata": {},
   "outputs": [],
   "source": [
    "# Add typing hints\n",
    "\n",
    "def multiply(a:int,b:int)-> int:\n",
    "    \"Multiplay two numbers\"\n",
    "    return a*b"
   ]
  },
  {
   "cell_type": "code",
   "execution_count": 24,
   "id": "5415d1b3",
   "metadata": {},
   "outputs": [],
   "source": [
    "#Add decorator\n",
    "\n",
    "@tool\n",
    "def multiply(a:int,b:int)-> int:\n",
    "    \"Multiplay two numbers\"\n",
    "    return a*b\n"
   ]
  },
  {
   "cell_type": "code",
   "execution_count": 25,
   "id": "ae284ade",
   "metadata": {},
   "outputs": [
    {
     "name": "stdout",
     "output_type": "stream",
     "text": [
      "15\n"
     ]
    }
   ],
   "source": [
    "tool = multiply.invoke({'a':3,'b':5})\n",
    "print(tool)"
   ]
  },
  {
   "cell_type": "code",
   "execution_count": 33,
   "id": "3ca231c3",
   "metadata": {},
   "outputs": [
    {
     "data": {
      "text/plain": [
       "{'a': {'title': 'A', 'type': 'integer'},\n",
       " 'b': {'title': 'B', 'type': 'integer'}}"
      ]
     },
     "execution_count": 33,
     "metadata": {},
     "output_type": "execute_result"
    }
   ],
   "source": [
    "multiply.name\n",
    "multiply.description\n",
    "multiply.args"
   ]
  },
  {
   "cell_type": "markdown",
   "id": "00f47e66",
   "metadata": {},
   "source": [
    "##### 1.Structured Tool"
   ]
  },
  {
   "cell_type": "code",
   "execution_count": 41,
   "id": "ad0a507e",
   "metadata": {},
   "outputs": [],
   "source": [
    "from langchain_core.tools import StructuredTool\n",
    "from pydantic import BaseModel, Field"
   ]
  },
  {
   "cell_type": "code",
   "execution_count": 44,
   "id": "cc037f68",
   "metadata": {},
   "outputs": [
    {
     "name": "stderr",
     "output_type": "stream",
     "text": [
      "C:\\Users\\urp20\\AppData\\Local\\Programs\\Python\\Python311\\Lib\\site-packages\\pydantic\\fields.py:1042: PydanticDeprecatedSince20: Using extra keyword arguments on `Field` is deprecated and will be removed. Use `json_schema_extra` instead. (Extra keys: 'required', 'Description'). Deprecated in Pydantic V2.0 to be removed in V3.0. See Pydantic V2 Migration Guide at https://errors.pydantic.dev/2.10/migration/\n",
      "  warn(\n",
      "C:\\Users\\urp20\\AppData\\Local\\Programs\\Python\\Python311\\Lib\\site-packages\\pydantic\\fields.py:1042: PydanticDeprecatedSince20: Using extra keyword arguments on `Field` is deprecated and will be removed. Use `json_schema_extra` instead. (Extra keys: 'required', 'Decription'). Deprecated in Pydantic V2.0 to be removed in V3.0. See Pydantic V2 Migration Guide at https://errors.pydantic.dev/2.10/migration/\n",
      "  warn(\n"
     ]
    }
   ],
   "source": [
    "class MultiplyInput(BaseModel):\n",
    "    a:int= Field(required = True, Description =\"first number to add\" )\n",
    "    b:int = Field(required = True, Decription = \"second number to add\")"
   ]
  },
  {
   "cell_type": "code",
   "execution_count": 45,
   "id": "67896f2a",
   "metadata": {},
   "outputs": [],
   "source": [
    "def multiply_function(a:int,b:int)->int:\n",
    "    return a*b"
   ]
  },
  {
   "cell_type": "code",
   "execution_count": 46,
   "id": "5503a45f",
   "metadata": {},
   "outputs": [],
   "source": [
    "multiply_tool = StructuredTool.from_function(\n",
    "func = multiply_function,\n",
    "name ='multiply',\n",
    "description= \"Multiply two number\",\n",
    "arg_schema =MultiplyInput\n",
    "\n",
    ")"
   ]
  },
  {
   "cell_type": "code",
   "execution_count": 49,
   "id": "e714e17b",
   "metadata": {},
   "outputs": [
    {
     "name": "stdout",
     "output_type": "stream",
     "text": [
      "15\n"
     ]
    }
   ],
   "source": [
    "result = multiply_tool.invoke({'a':5,'b':3})\n",
    "print(result)"
   ]
  },
  {
   "cell_type": "code",
   "execution_count": 51,
   "id": "55857bd4",
   "metadata": {},
   "outputs": [
    {
     "name": "stdout",
     "output_type": "stream",
     "text": [
      "multiply\n",
      "Multiply two number\n",
      "{'a': {'title': 'A', 'type': 'integer'}, 'b': {'title': 'B', 'type': 'integer'}}\n"
     ]
    }
   ],
   "source": [
    "print(multiply_tool.name)\n",
    "print(multiply_tool.description)\n",
    "print(multiply_tool.args)"
   ]
  },
  {
   "cell_type": "markdown",
   "id": "24e64dac",
   "metadata": {},
   "source": [
    "##### 2.BaseTool"
   ]
  },
  {
   "cell_type": "code",
   "execution_count": 58,
   "id": "28199fb8",
   "metadata": {},
   "outputs": [],
   "source": [
    "from langchain.tools import BaseTool\n",
    "from typing import Type"
   ]
  },
  {
   "cell_type": "code",
   "execution_count": 59,
   "id": "4177cffb",
   "metadata": {},
   "outputs": [
    {
     "name": "stderr",
     "output_type": "stream",
     "text": [
      "C:\\Users\\urp20\\AppData\\Local\\Programs\\Python\\Python311\\Lib\\site-packages\\pydantic\\fields.py:1042: PydanticDeprecatedSince20: Using extra keyword arguments on `Field` is deprecated and will be removed. Use `json_schema_extra` instead. (Extra keys: 'requried', 'Description'). Deprecated in Pydantic V2.0 to be removed in V3.0. See Pydantic V2 Migration Guide at https://errors.pydantic.dev/2.10/migration/\n",
      "  warn(\n",
      "C:\\Users\\urp20\\AppData\\Local\\Programs\\Python\\Python311\\Lib\\site-packages\\pydantic\\fields.py:1042: PydanticDeprecatedSince20: Using extra keyword arguments on `Field` is deprecated and will be removed. Use `json_schema_extra` instead. (Extra keys: 'requried', 'Description'). Deprecated in Pydantic V2.0 to be removed in V3.0. See Pydantic V2 Migration Guide at https://errors.pydantic.dev/2.10/migration/\n",
      "  warn(\n"
     ]
    }
   ],
   "source": [
    "class Multiply_Input(BaseModel):\n",
    "    a: int= Field(requried= True,Description = \"First number to add \")\n",
    "    b: int= Field(requried= True,Description = \"Second number to add\")"
   ]
  },
  {
   "cell_type": "code",
   "execution_count": 83,
   "id": "38f38c2a",
   "metadata": {},
   "outputs": [],
   "source": [
    "class MultiplyTool(BaseTool):\n",
    "    name:str=\"multiply\"\n",
    "    description:str = \"multiply two number\"\n",
    "        \n",
    "    args_schema: Type[BaseModel]= MultiplyInput\n",
    "        \n",
    "        \n",
    "    def _run(self,a:int,b:int)-> int:\n",
    "        return a*b\n",
    "    "
   ]
  },
  {
   "cell_type": "code",
   "execution_count": 84,
   "id": "b0d770cd",
   "metadata": {},
   "outputs": [],
   "source": [
    "multiply_tool = MultiplyTool()"
   ]
  },
  {
   "cell_type": "code",
   "execution_count": 85,
   "id": "041cacfa",
   "metadata": {},
   "outputs": [
    {
     "name": "stdout",
     "output_type": "stream",
     "text": [
      "9\n"
     ]
    }
   ],
   "source": [
    "result = multiply_tool.invoke({'a':3, 'b':3})\n",
    "print(result)"
   ]
  },
  {
   "cell_type": "code",
   "execution_count": 86,
   "id": "0e7e1e52",
   "metadata": {},
   "outputs": [
    {
     "name": "stdout",
     "output_type": "stream",
     "text": [
      "multiply\n",
      "multiply two number\n",
      "{'a': {'Description': 'first number to add', 'required': True, 'title': 'A', 'type': 'integer'}, 'b': {'Decription': 'second number to add', 'required': True, 'title': 'B', 'type': 'integer'}}\n"
     ]
    }
   ],
   "source": [
    "print(multiply_tool.name)\n",
    "print(multiply_tool.description)\n",
    "print(multiply_tool.args)"
   ]
  },
  {
   "cell_type": "markdown",
   "id": "82fee3c3",
   "metadata": {},
   "source": [
    "##### Toolkit"
   ]
  },
  {
   "cell_type": "code",
   "execution_count": 88,
   "id": "3ae536cc",
   "metadata": {},
   "outputs": [],
   "source": [
    "from langchain_core.tools import tool"
   ]
  },
  {
   "cell_type": "code",
   "execution_count": 90,
   "id": "c7127d90",
   "metadata": {},
   "outputs": [],
   "source": [
    "@tool\n",
    "\n",
    "def add(a:int,b:int)->int:\n",
    "        \"\"\"Add two numbers\"\"\"\n",
    "        return a+b"
   ]
  },
  {
   "cell_type": "code",
   "execution_count": 92,
   "id": "e18cb15b",
   "metadata": {},
   "outputs": [],
   "source": [
    "@tool\n",
    "\n",
    "def multiply(a:int,b:int)->int:\n",
    "    \"\"\"Multiply two numbers\"\"\"\n",
    "    return a*b"
   ]
  },
  {
   "cell_type": "code",
   "execution_count": 100,
   "id": "17b167ce",
   "metadata": {},
   "outputs": [],
   "source": [
    "class MathToolkit:\n",
    "    def get_tools(self):\n",
    "        return [add,multiply]"
   ]
  },
  {
   "cell_type": "code",
   "execution_count": 101,
   "id": "1d82dba0",
   "metadata": {},
   "outputs": [
    {
     "name": "stdout",
     "output_type": "stream",
     "text": [
      "add => Add two numbers\n",
      "multiply => Multiply two numbers\n"
     ]
    }
   ],
   "source": [
    "toolkit = MathToolkit()\n",
    "\n",
    "tools = toolkit.get_tools()\n",
    "\n",
    "for tool in tools:    \n",
    "    print(tool.name, \"=>\", tool.description)"
   ]
  },
  {
   "cell_type": "code",
   "execution_count": null,
   "id": "37b5323c",
   "metadata": {},
   "outputs": [],
   "source": []
  },
  {
   "cell_type": "code",
   "execution_count": null,
   "id": "42640c95",
   "metadata": {},
   "outputs": [],
   "source": []
  }
 ],
 "metadata": {
  "kernelspec": {
   "display_name": "Python 3 (ipykernel)",
   "language": "python",
   "name": "python3"
  },
  "language_info": {
   "codemirror_mode": {
    "name": "ipython",
    "version": 3
   },
   "file_extension": ".py",
   "mimetype": "text/x-python",
   "name": "python",
   "nbconvert_exporter": "python",
   "pygments_lexer": "ipython3",
   "version": "3.11.3"
  }
 },
 "nbformat": 4,
 "nbformat_minor": 5
}
