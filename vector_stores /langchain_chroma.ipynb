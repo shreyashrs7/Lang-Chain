{
 "cells": [
  {
   "cell_type": "code",
   "execution_count": null,
   "id": "1072a101",
   "metadata": {},
   "outputs": [],
   "source": [
    "import os\n",
    "os.environ[\"GOOGLE_API_KEY\"] = "
   ]
  },
  {
   "cell_type": "code",
   "execution_count": 4,
   "id": "e621887e",
   "metadata": {},
   "outputs": [
    {
     "name": "stdout",
     "output_type": "stream",
     "text": [
      "Requirement already satisfied: langchain in /home/shreyash-ubuntu/langchain_tut/myenv/lib/python3.12/site-packages (0.3.27)\n",
      "Requirement already satisfied: chromadb in /home/shreyash-ubuntu/langchain_tut/myenv/lib/python3.12/site-packages (1.0.15)\n",
      "Requirement already satisfied: openai in /home/shreyash-ubuntu/langchain_tut/myenv/lib/python3.12/site-packages (1.93.0)\n",
      "Requirement already satisfied: tiktoken in /home/shreyash-ubuntu/langchain_tut/myenv/lib/python3.12/site-packages (0.9.0)\n",
      "Requirement already satisfied: pypdf in /home/shreyash-ubuntu/langchain_tut/myenv/lib/python3.12/site-packages (5.8.0)\n",
      "Requirement already satisfied: langchain_openai in /home/shreyash-ubuntu/langchain_tut/myenv/lib/python3.12/site-packages (0.3.27)\n",
      "Requirement already satisfied: langchain-community in /home/shreyash-ubuntu/langchain_tut/myenv/lib/python3.12/site-packages (0.3.27)\n",
      "Requirement already satisfied: langchain-core<1.0.0,>=0.3.72 in /home/shreyash-ubuntu/langchain_tut/myenv/lib/python3.12/site-packages (from langchain) (0.3.72)\n",
      "Requirement already satisfied: langchain-text-splitters<1.0.0,>=0.3.9 in /home/shreyash-ubuntu/langchain_tut/myenv/lib/python3.12/site-packages (from langchain) (0.3.9)\n",
      "Requirement already satisfied: langsmith>=0.1.17 in /home/shreyash-ubuntu/langchain_tut/myenv/lib/python3.12/site-packages (from langchain) (0.4.4)\n",
      "Requirement already satisfied: pydantic<3.0.0,>=2.7.4 in /home/shreyash-ubuntu/langchain_tut/myenv/lib/python3.12/site-packages (from langchain) (2.11.7)\n",
      "Requirement already satisfied: SQLAlchemy<3,>=1.4 in /home/shreyash-ubuntu/langchain_tut/myenv/lib/python3.12/site-packages (from langchain) (2.0.41)\n",
      "Requirement already satisfied: requests<3,>=2 in /home/shreyash-ubuntu/langchain_tut/myenv/lib/python3.12/site-packages (from langchain) (2.32.4)\n",
      "Requirement already satisfied: PyYAML>=5.3 in /home/shreyash-ubuntu/langchain_tut/myenv/lib/python3.12/site-packages (from langchain) (6.0.2)\n",
      "Requirement already satisfied: build>=1.0.3 in /home/shreyash-ubuntu/langchain_tut/myenv/lib/python3.12/site-packages (from chromadb) (1.2.2.post1)\n",
      "Requirement already satisfied: pybase64>=1.4.1 in /home/shreyash-ubuntu/langchain_tut/myenv/lib/python3.12/site-packages (from chromadb) (1.4.2)\n",
      "Requirement already satisfied: uvicorn>=0.18.3 in /home/shreyash-ubuntu/langchain_tut/myenv/lib/python3.12/site-packages (from uvicorn[standard]>=0.18.3->chromadb) (0.35.0)\n",
      "Requirement already satisfied: numpy>=1.22.5 in /home/shreyash-ubuntu/langchain_tut/myenv/lib/python3.12/site-packages (from chromadb) (2.3.1)\n",
      "Requirement already satisfied: posthog<6.0.0,>=2.4.0 in /home/shreyash-ubuntu/langchain_tut/myenv/lib/python3.12/site-packages (from chromadb) (5.4.0)\n",
      "Requirement already satisfied: typing-extensions>=4.5.0 in /home/shreyash-ubuntu/langchain_tut/myenv/lib/python3.12/site-packages (from chromadb) (4.14.0)\n",
      "Requirement already satisfied: onnxruntime>=1.14.1 in /home/shreyash-ubuntu/langchain_tut/myenv/lib/python3.12/site-packages (from chromadb) (1.22.1)\n",
      "Requirement already satisfied: opentelemetry-api>=1.2.0 in /home/shreyash-ubuntu/langchain_tut/myenv/lib/python3.12/site-packages (from chromadb) (1.35.0)\n",
      "Requirement already satisfied: opentelemetry-exporter-otlp-proto-grpc>=1.2.0 in /home/shreyash-ubuntu/langchain_tut/myenv/lib/python3.12/site-packages (from chromadb) (1.35.0)\n",
      "Requirement already satisfied: opentelemetry-sdk>=1.2.0 in /home/shreyash-ubuntu/langchain_tut/myenv/lib/python3.12/site-packages (from chromadb) (1.35.0)\n",
      "Requirement already satisfied: tokenizers>=0.13.2 in /home/shreyash-ubuntu/langchain_tut/myenv/lib/python3.12/site-packages (from chromadb) (0.21.2)\n",
      "Requirement already satisfied: pypika>=0.48.9 in /home/shreyash-ubuntu/langchain_tut/myenv/lib/python3.12/site-packages (from chromadb) (0.48.9)\n",
      "Requirement already satisfied: tqdm>=4.65.0 in /home/shreyash-ubuntu/langchain_tut/myenv/lib/python3.12/site-packages (from chromadb) (4.67.1)\n",
      "Requirement already satisfied: overrides>=7.3.1 in /home/shreyash-ubuntu/langchain_tut/myenv/lib/python3.12/site-packages (from chromadb) (7.7.0)\n",
      "Requirement already satisfied: importlib-resources in /home/shreyash-ubuntu/langchain_tut/myenv/lib/python3.12/site-packages (from chromadb) (6.5.2)\n",
      "Requirement already satisfied: grpcio>=1.58.0 in /home/shreyash-ubuntu/langchain_tut/myenv/lib/python3.12/site-packages (from chromadb) (1.73.1)\n",
      "Requirement already satisfied: bcrypt>=4.0.1 in /home/shreyash-ubuntu/langchain_tut/myenv/lib/python3.12/site-packages (from chromadb) (4.3.0)\n",
      "Requirement already satisfied: typer>=0.9.0 in /home/shreyash-ubuntu/langchain_tut/myenv/lib/python3.12/site-packages (from chromadb) (0.16.0)\n",
      "Requirement already satisfied: kubernetes>=28.1.0 in /home/shreyash-ubuntu/langchain_tut/myenv/lib/python3.12/site-packages (from chromadb) (33.1.0)\n",
      "Requirement already satisfied: tenacity>=8.2.3 in /home/shreyash-ubuntu/langchain_tut/myenv/lib/python3.12/site-packages (from chromadb) (9.1.2)\n",
      "Requirement already satisfied: mmh3>=4.0.1 in /home/shreyash-ubuntu/langchain_tut/myenv/lib/python3.12/site-packages (from chromadb) (5.2.0)\n",
      "Requirement already satisfied: orjson>=3.9.12 in /home/shreyash-ubuntu/langchain_tut/myenv/lib/python3.12/site-packages (from chromadb) (3.10.18)\n",
      "Requirement already satisfied: httpx>=0.27.0 in /home/shreyash-ubuntu/langchain_tut/myenv/lib/python3.12/site-packages (from chromadb) (0.28.1)\n",
      "Requirement already satisfied: rich>=10.11.0 in /home/shreyash-ubuntu/langchain_tut/myenv/lib/python3.12/site-packages (from chromadb) (14.1.0)\n",
      "Requirement already satisfied: jsonschema>=4.19.0 in /home/shreyash-ubuntu/langchain_tut/myenv/lib/python3.12/site-packages (from chromadb) (4.24.0)\n",
      "Requirement already satisfied: anyio<5,>=3.5.0 in /home/shreyash-ubuntu/langchain_tut/myenv/lib/python3.12/site-packages (from openai) (4.9.0)\n",
      "Requirement already satisfied: distro<2,>=1.7.0 in /home/shreyash-ubuntu/langchain_tut/myenv/lib/python3.12/site-packages (from openai) (1.9.0)\n",
      "Requirement already satisfied: jiter<1,>=0.4.0 in /home/shreyash-ubuntu/langchain_tut/myenv/lib/python3.12/site-packages (from openai) (0.10.0)\n",
      "Requirement already satisfied: sniffio in /home/shreyash-ubuntu/langchain_tut/myenv/lib/python3.12/site-packages (from openai) (1.3.1)\n",
      "Requirement already satisfied: regex>=2022.1.18 in /home/shreyash-ubuntu/langchain_tut/myenv/lib/python3.12/site-packages (from tiktoken) (2024.11.6)\n",
      "Requirement already satisfied: aiohttp<4.0.0,>=3.8.3 in /home/shreyash-ubuntu/langchain_tut/myenv/lib/python3.12/site-packages (from langchain-community) (3.12.14)\n",
      "Requirement already satisfied: dataclasses-json<0.7,>=0.5.7 in /home/shreyash-ubuntu/langchain_tut/myenv/lib/python3.12/site-packages (from langchain-community) (0.6.7)\n",
      "Requirement already satisfied: pydantic-settings<3.0.0,>=2.4.0 in /home/shreyash-ubuntu/langchain_tut/myenv/lib/python3.12/site-packages (from langchain-community) (2.10.1)\n",
      "Requirement already satisfied: httpx-sse<1.0.0,>=0.4.0 in /home/shreyash-ubuntu/langchain_tut/myenv/lib/python3.12/site-packages (from langchain-community) (0.4.1)\n",
      "Requirement already satisfied: aiohappyeyeballs>=2.5.0 in /home/shreyash-ubuntu/langchain_tut/myenv/lib/python3.12/site-packages (from aiohttp<4.0.0,>=3.8.3->langchain-community) (2.6.1)\n",
      "Requirement already satisfied: aiosignal>=1.4.0 in /home/shreyash-ubuntu/langchain_tut/myenv/lib/python3.12/site-packages (from aiohttp<4.0.0,>=3.8.3->langchain-community) (1.4.0)\n",
      "Requirement already satisfied: attrs>=17.3.0 in /home/shreyash-ubuntu/langchain_tut/myenv/lib/python3.12/site-packages (from aiohttp<4.0.0,>=3.8.3->langchain-community) (25.3.0)\n",
      "Requirement already satisfied: frozenlist>=1.1.1 in /home/shreyash-ubuntu/langchain_tut/myenv/lib/python3.12/site-packages (from aiohttp<4.0.0,>=3.8.3->langchain-community) (1.7.0)\n",
      "Requirement already satisfied: multidict<7.0,>=4.5 in /home/shreyash-ubuntu/langchain_tut/myenv/lib/python3.12/site-packages (from aiohttp<4.0.0,>=3.8.3->langchain-community) (6.6.3)\n",
      "Requirement already satisfied: propcache>=0.2.0 in /home/shreyash-ubuntu/langchain_tut/myenv/lib/python3.12/site-packages (from aiohttp<4.0.0,>=3.8.3->langchain-community) (0.3.2)\n",
      "Requirement already satisfied: yarl<2.0,>=1.17.0 in /home/shreyash-ubuntu/langchain_tut/myenv/lib/python3.12/site-packages (from aiohttp<4.0.0,>=3.8.3->langchain-community) (1.20.1)\n",
      "Requirement already satisfied: idna>=2.8 in /home/shreyash-ubuntu/langchain_tut/myenv/lib/python3.12/site-packages (from anyio<5,>=3.5.0->openai) (3.10)\n",
      "Requirement already satisfied: packaging>=19.1 in /home/shreyash-ubuntu/langchain_tut/myenv/lib/python3.12/site-packages (from build>=1.0.3->chromadb) (24.2)\n",
      "Requirement already satisfied: pyproject_hooks in /home/shreyash-ubuntu/langchain_tut/myenv/lib/python3.12/site-packages (from build>=1.0.3->chromadb) (1.2.0)\n",
      "Requirement already satisfied: marshmallow<4.0.0,>=3.18.0 in /home/shreyash-ubuntu/langchain_tut/myenv/lib/python3.12/site-packages (from dataclasses-json<0.7,>=0.5.7->langchain-community) (3.26.1)\n",
      "Requirement already satisfied: typing-inspect<1,>=0.4.0 in /home/shreyash-ubuntu/langchain_tut/myenv/lib/python3.12/site-packages (from dataclasses-json<0.7,>=0.5.7->langchain-community) (0.9.0)\n",
      "Requirement already satisfied: certifi in /home/shreyash-ubuntu/langchain_tut/myenv/lib/python3.12/site-packages (from httpx>=0.27.0->chromadb) (2025.6.15)\n",
      "Requirement already satisfied: httpcore==1.* in /home/shreyash-ubuntu/langchain_tut/myenv/lib/python3.12/site-packages (from httpx>=0.27.0->chromadb) (1.0.9)\n",
      "Requirement already satisfied: h11>=0.16 in /home/shreyash-ubuntu/langchain_tut/myenv/lib/python3.12/site-packages (from httpcore==1.*->httpx>=0.27.0->chromadb) (0.16.0)\n",
      "Requirement already satisfied: jsonschema-specifications>=2023.03.6 in /home/shreyash-ubuntu/langchain_tut/myenv/lib/python3.12/site-packages (from jsonschema>=4.19.0->chromadb) (2025.4.1)\n",
      "Requirement already satisfied: referencing>=0.28.4 in /home/shreyash-ubuntu/langchain_tut/myenv/lib/python3.12/site-packages (from jsonschema>=4.19.0->chromadb) (0.36.2)\n",
      "Requirement already satisfied: rpds-py>=0.7.1 in /home/shreyash-ubuntu/langchain_tut/myenv/lib/python3.12/site-packages (from jsonschema>=4.19.0->chromadb) (0.26.0)\n",
      "Requirement already satisfied: six>=1.9.0 in /home/shreyash-ubuntu/langchain_tut/myenv/lib/python3.12/site-packages (from kubernetes>=28.1.0->chromadb) (1.17.0)\n",
      "Requirement already satisfied: python-dateutil>=2.5.3 in /home/shreyash-ubuntu/langchain_tut/myenv/lib/python3.12/site-packages (from kubernetes>=28.1.0->chromadb) (2.9.0.post0)\n",
      "Requirement already satisfied: google-auth>=1.0.1 in /home/shreyash-ubuntu/langchain_tut/myenv/lib/python3.12/site-packages (from kubernetes>=28.1.0->chromadb) (2.40.3)\n",
      "Requirement already satisfied: websocket-client!=0.40.0,!=0.41.*,!=0.42.*,>=0.32.0 in /home/shreyash-ubuntu/langchain_tut/myenv/lib/python3.12/site-packages (from kubernetes>=28.1.0->chromadb) (1.8.0)\n",
      "Requirement already satisfied: requests-oauthlib in /home/shreyash-ubuntu/langchain_tut/myenv/lib/python3.12/site-packages (from kubernetes>=28.1.0->chromadb) (2.0.0)\n",
      "Requirement already satisfied: oauthlib>=3.2.2 in /home/shreyash-ubuntu/langchain_tut/myenv/lib/python3.12/site-packages (from kubernetes>=28.1.0->chromadb) (3.3.1)\n",
      "Requirement already satisfied: urllib3>=1.24.2 in /home/shreyash-ubuntu/langchain_tut/myenv/lib/python3.12/site-packages (from kubernetes>=28.1.0->chromadb) (2.5.0)\n",
      "Requirement already satisfied: durationpy>=0.7 in /home/shreyash-ubuntu/langchain_tut/myenv/lib/python3.12/site-packages (from kubernetes>=28.1.0->chromadb) (0.10)\n",
      "Requirement already satisfied: jsonpatch<2.0,>=1.33 in /home/shreyash-ubuntu/langchain_tut/myenv/lib/python3.12/site-packages (from langchain-core<1.0.0,>=0.3.72->langchain) (1.33)\n",
      "Requirement already satisfied: requests-toolbelt<2.0.0,>=1.0.0 in /home/shreyash-ubuntu/langchain_tut/myenv/lib/python3.12/site-packages (from langsmith>=0.1.17->langchain) (1.0.0)\n",
      "Requirement already satisfied: zstandard<0.24.0,>=0.23.0 in /home/shreyash-ubuntu/langchain_tut/myenv/lib/python3.12/site-packages (from langsmith>=0.1.17->langchain) (0.23.0)\n",
      "Requirement already satisfied: coloredlogs in /home/shreyash-ubuntu/langchain_tut/myenv/lib/python3.12/site-packages (from onnxruntime>=1.14.1->chromadb) (15.0.1)\n",
      "Requirement already satisfied: flatbuffers in /home/shreyash-ubuntu/langchain_tut/myenv/lib/python3.12/site-packages (from onnxruntime>=1.14.1->chromadb) (25.2.10)\n",
      "Requirement already satisfied: protobuf in /home/shreyash-ubuntu/langchain_tut/myenv/lib/python3.12/site-packages (from onnxruntime>=1.14.1->chromadb) (5.29.5)\n",
      "Requirement already satisfied: sympy in /home/shreyash-ubuntu/langchain_tut/myenv/lib/python3.12/site-packages (from onnxruntime>=1.14.1->chromadb) (1.14.0)\n",
      "Requirement already satisfied: importlib-metadata<8.8.0,>=6.0 in /home/shreyash-ubuntu/langchain_tut/myenv/lib/python3.12/site-packages (from opentelemetry-api>=1.2.0->chromadb) (8.7.0)\n",
      "Requirement already satisfied: googleapis-common-protos~=1.57 in /home/shreyash-ubuntu/langchain_tut/myenv/lib/python3.12/site-packages (from opentelemetry-exporter-otlp-proto-grpc>=1.2.0->chromadb) (1.70.0)\n",
      "Requirement already satisfied: opentelemetry-exporter-otlp-proto-common==1.35.0 in /home/shreyash-ubuntu/langchain_tut/myenv/lib/python3.12/site-packages (from opentelemetry-exporter-otlp-proto-grpc>=1.2.0->chromadb) (1.35.0)\n",
      "Requirement already satisfied: opentelemetry-proto==1.35.0 in /home/shreyash-ubuntu/langchain_tut/myenv/lib/python3.12/site-packages (from opentelemetry-exporter-otlp-proto-grpc>=1.2.0->chromadb) (1.35.0)\n",
      "Requirement already satisfied: opentelemetry-semantic-conventions==0.56b0 in /home/shreyash-ubuntu/langchain_tut/myenv/lib/python3.12/site-packages (from opentelemetry-sdk>=1.2.0->chromadb) (0.56b0)\n",
      "Requirement already satisfied: backoff>=1.10.0 in /home/shreyash-ubuntu/langchain_tut/myenv/lib/python3.12/site-packages (from posthog<6.0.0,>=2.4.0->chromadb) (2.2.1)\n",
      "Requirement already satisfied: annotated-types>=0.6.0 in /home/shreyash-ubuntu/langchain_tut/myenv/lib/python3.12/site-packages (from pydantic<3.0.0,>=2.7.4->langchain) (0.7.0)\n",
      "Requirement already satisfied: pydantic-core==2.33.2 in /home/shreyash-ubuntu/langchain_tut/myenv/lib/python3.12/site-packages (from pydantic<3.0.0,>=2.7.4->langchain) (2.33.2)\n",
      "Requirement already satisfied: typing-inspection>=0.4.0 in /home/shreyash-ubuntu/langchain_tut/myenv/lib/python3.12/site-packages (from pydantic<3.0.0,>=2.7.4->langchain) (0.4.1)\n",
      "Requirement already satisfied: python-dotenv>=0.21.0 in /home/shreyash-ubuntu/langchain_tut/myenv/lib/python3.12/site-packages (from pydantic-settings<3.0.0,>=2.4.0->langchain-community) (1.1.1)\n",
      "Requirement already satisfied: charset_normalizer<4,>=2 in /home/shreyash-ubuntu/langchain_tut/myenv/lib/python3.12/site-packages (from requests<3,>=2->langchain) (3.4.2)\n",
      "Requirement already satisfied: markdown-it-py>=2.2.0 in /home/shreyash-ubuntu/langchain_tut/myenv/lib/python3.12/site-packages (from rich>=10.11.0->chromadb) (3.0.0)\n",
      "Requirement already satisfied: pygments<3.0.0,>=2.13.0 in /home/shreyash-ubuntu/langchain_tut/myenv/lib/python3.12/site-packages (from rich>=10.11.0->chromadb) (2.19.2)\n",
      "Requirement already satisfied: greenlet>=1 in /home/shreyash-ubuntu/langchain_tut/myenv/lib/python3.12/site-packages (from SQLAlchemy<3,>=1.4->langchain) (3.2.3)\n",
      "Requirement already satisfied: huggingface-hub<1.0,>=0.16.4 in /home/shreyash-ubuntu/langchain_tut/myenv/lib/python3.12/site-packages (from tokenizers>=0.13.2->chromadb) (0.33.2)\n",
      "Requirement already satisfied: click>=8.0.0 in /home/shreyash-ubuntu/langchain_tut/myenv/lib/python3.12/site-packages (from typer>=0.9.0->chromadb) (8.2.1)\n",
      "Requirement already satisfied: shellingham>=1.3.0 in /home/shreyash-ubuntu/langchain_tut/myenv/lib/python3.12/site-packages (from typer>=0.9.0->chromadb) (1.5.4)\n",
      "Requirement already satisfied: httptools>=0.6.3 in /home/shreyash-ubuntu/langchain_tut/myenv/lib/python3.12/site-packages (from uvicorn[standard]>=0.18.3->chromadb) (0.6.4)\n",
      "Requirement already satisfied: uvloop>=0.15.1 in /home/shreyash-ubuntu/langchain_tut/myenv/lib/python3.12/site-packages (from uvicorn[standard]>=0.18.3->chromadb) (0.21.0)\n",
      "Requirement already satisfied: watchfiles>=0.13 in /home/shreyash-ubuntu/langchain_tut/myenv/lib/python3.12/site-packages (from uvicorn[standard]>=0.18.3->chromadb) (1.1.0)\n",
      "Requirement already satisfied: websockets>=10.4 in /home/shreyash-ubuntu/langchain_tut/myenv/lib/python3.12/site-packages (from uvicorn[standard]>=0.18.3->chromadb) (15.0.1)\n",
      "Requirement already satisfied: cachetools<6.0,>=2.0.0 in /home/shreyash-ubuntu/langchain_tut/myenv/lib/python3.12/site-packages (from google-auth>=1.0.1->kubernetes>=28.1.0->chromadb) (5.5.2)\n",
      "Requirement already satisfied: pyasn1-modules>=0.2.1 in /home/shreyash-ubuntu/langchain_tut/myenv/lib/python3.12/site-packages (from google-auth>=1.0.1->kubernetes>=28.1.0->chromadb) (0.4.2)\n",
      "Requirement already satisfied: rsa<5,>=3.1.4 in /home/shreyash-ubuntu/langchain_tut/myenv/lib/python3.12/site-packages (from google-auth>=1.0.1->kubernetes>=28.1.0->chromadb) (4.9.1)\n",
      "Requirement already satisfied: filelock in /home/shreyash-ubuntu/langchain_tut/myenv/lib/python3.12/site-packages (from huggingface-hub<1.0,>=0.16.4->tokenizers>=0.13.2->chromadb) (3.18.0)\n",
      "Requirement already satisfied: fsspec>=2023.5.0 in /home/shreyash-ubuntu/langchain_tut/myenv/lib/python3.12/site-packages (from huggingface-hub<1.0,>=0.16.4->tokenizers>=0.13.2->chromadb) (2025.5.1)\n",
      "Requirement already satisfied: hf-xet<2.0.0,>=1.1.2 in /home/shreyash-ubuntu/langchain_tut/myenv/lib/python3.12/site-packages (from huggingface-hub<1.0,>=0.16.4->tokenizers>=0.13.2->chromadb) (1.1.5)\n",
      "Requirement already satisfied: zipp>=3.20 in /home/shreyash-ubuntu/langchain_tut/myenv/lib/python3.12/site-packages (from importlib-metadata<8.8.0,>=6.0->opentelemetry-api>=1.2.0->chromadb) (3.23.0)\n",
      "Requirement already satisfied: jsonpointer>=1.9 in /home/shreyash-ubuntu/langchain_tut/myenv/lib/python3.12/site-packages (from jsonpatch<2.0,>=1.33->langchain-core<1.0.0,>=0.3.72->langchain) (3.0.0)\n",
      "Requirement already satisfied: mdurl~=0.1 in /home/shreyash-ubuntu/langchain_tut/myenv/lib/python3.12/site-packages (from markdown-it-py>=2.2.0->rich>=10.11.0->chromadb) (0.1.2)\n",
      "Requirement already satisfied: mypy-extensions>=0.3.0 in /home/shreyash-ubuntu/langchain_tut/myenv/lib/python3.12/site-packages (from typing-inspect<1,>=0.4.0->dataclasses-json<0.7,>=0.5.7->langchain-community) (1.1.0)\n",
      "Requirement already satisfied: humanfriendly>=9.1 in /home/shreyash-ubuntu/langchain_tut/myenv/lib/python3.12/site-packages (from coloredlogs->onnxruntime>=1.14.1->chromadb) (10.0)\n",
      "Requirement already satisfied: mpmath<1.4,>=1.1.0 in /home/shreyash-ubuntu/langchain_tut/myenv/lib/python3.12/site-packages (from sympy->onnxruntime>=1.14.1->chromadb) (1.3.0)\n",
      "Requirement already satisfied: pyasn1<0.7.0,>=0.6.1 in /home/shreyash-ubuntu/langchain_tut/myenv/lib/python3.12/site-packages (from pyasn1-modules>=0.2.1->google-auth>=1.0.1->kubernetes>=28.1.0->chromadb) (0.6.1)\n"
     ]
    }
   ],
   "source": [
    "! pip install langchain chromadb openai tiktoken pypdf langchain_openai langchain-community"
   ]
  },
  {
   "cell_type": "code",
   "execution_count": 2,
   "id": "0fb15f53",
   "metadata": {},
   "outputs": [
    {
     "name": "stderr",
     "output_type": "stream",
     "text": [
      "/home/shreyash-ubuntu/langchain_tut/myenv/lib/python3.12/site-packages/tqdm/auto.py:21: TqdmWarning: IProgress not found. Please update jupyter and ipywidgets. See https://ipywidgets.readthedocs.io/en/stable/user_install.html\n",
      "  from .autonotebook import tqdm as notebook_tqdm\n"
     ]
    }
   ],
   "source": [
    "from langchain_google_genai import GoogleGenerativeAIEmbeddings\n",
    "from langchain.vectorstores import Chroma\n"
   ]
  },
  {
   "cell_type": "code",
   "execution_count": 3,
   "id": "f9924219",
   "metadata": {},
   "outputs": [],
   "source": [
    "from langchain.schema import Document\n",
    "\n",
    "# Create LangChain documents for IPL players\n",
    "\n",
    "doc1 = Document(\n",
    "        page_content=\"Virat Kohli is one of the most successful and consistent batsmen in IPL history. Known for his aggressive batting style and fitness, he has led the Royal Challengers Bangalore in multiple seasons.\",\n",
    "        metadata={\"team\": \"Royal Challengers Bangalore\"}\n",
    "    )\n",
    "doc2 = Document(\n",
    "        page_content=\"Rohit Sharma is the most successful captain in IPL history, leading Mumbai Indians to five titles. He's known for his calm demeanor and ability to play big innings under pressure.\",\n",
    "        metadata={\"team\": \"Mumbai Indians\"}\n",
    "    )\n",
    "doc3 = Document(\n",
    "        page_content=\"MS Dhoni, famously known as Captain Cool, has led Chennai Super Kings to multiple IPL titles. His finishing skills, wicketkeeping, and leadership are legendary.\",\n",
    "        metadata={\"team\": \"Chennai Super Kings\"}\n",
    "    )\n",
    "doc4 = Document(\n",
    "        page_content=\"Jasprit Bumrah is considered one of the best fast bowlers in T20 cricket. Playing for Mumbai Indians, he is known for his yorkers and death-over expertise.\",\n",
    "        metadata={\"team\": \"Mumbai Indians\"}\n",
    "    )\n",
    "doc5 = Document(\n",
    "        page_content=\"Ravindra Jadeja is a dynamic all-rounder who contributes with both bat and ball. Representing Chennai Super Kings, his quick fielding and match-winning performances make him a key player.\",\n",
    "        metadata={\"team\": \"Chennai Super Kings\"}\n",
    "    )\n"
   ]
  },
  {
   "cell_type": "code",
   "execution_count": 4,
   "id": "cbf4ede3",
   "metadata": {},
   "outputs": [],
   "source": [
    "docs = [doc1, doc2, doc3, doc4, doc5]"
   ]
  },
  {
   "cell_type": "code",
   "execution_count": 5,
   "id": "12cca754",
   "metadata": {},
   "outputs": [
    {
     "name": "stderr",
     "output_type": "stream",
     "text": [
      "/tmp/ipykernel_10252/2110276425.py:2: LangChainDeprecationWarning: The class `Chroma` was deprecated in LangChain 0.2.9 and will be removed in 1.0. An updated version of the class exists in the :class:`~langchain-chroma package and should be used instead. To use it run `pip install -U :class:`~langchain-chroma` and import as `from :class:`~langchain_chroma import Chroma``.\n",
      "  vector_store = Chroma(\n"
     ]
    }
   ],
   "source": [
    "model = GoogleGenerativeAIEmbeddings(model= \"models/embedding-001\")\n",
    "vector_store = Chroma(\n",
    "    embedding_function= model,\n",
    "    persist_directory='my_chroma_db',\n",
    "    collection_name='sample'\n",
    ")"
   ]
  },
  {
   "cell_type": "code",
   "execution_count": 6,
   "id": "1491d135",
   "metadata": {},
   "outputs": [
    {
     "data": {
      "text/plain": [
       "['42664f11-4add-400a-88dc-39c3c5d26679',\n",
       " '661467c8-89da-4a22-a098-3263d441fff8',\n",
       " '896a4402-83d8-44b1-8e00-49a25521e7a8',\n",
       " '986f9cbf-1cd9-4e1f-a9d6-17271229cd85',\n",
       " 'fabcae33-2526-4ba6-a572-bc9890bdc5dd']"
      ]
     },
     "execution_count": 6,
     "metadata": {},
     "output_type": "execute_result"
    }
   ],
   "source": [
    "# add documents\n",
    "vector_store.add_documents(docs)"
   ]
  },
  {
   "cell_type": "code",
   "execution_count": 7,
   "id": "7e11b151",
   "metadata": {},
   "outputs": [
    {
     "data": {
      "text/plain": [
       "{'ids': ['42664f11-4add-400a-88dc-39c3c5d26679',\n",
       "  '661467c8-89da-4a22-a098-3263d441fff8',\n",
       "  '896a4402-83d8-44b1-8e00-49a25521e7a8',\n",
       "  '986f9cbf-1cd9-4e1f-a9d6-17271229cd85',\n",
       "  'fabcae33-2526-4ba6-a572-bc9890bdc5dd'],\n",
       " 'embeddings': array([[ 1.35614481e-02, -7.62679800e-03, -2.51727290e-02, ...,\n",
       "          1.35761239e-02,  3.51136659e-05, -7.35754846e-03],\n",
       "        [ 3.18830460e-02, -3.36795598e-02, -4.39120680e-02, ...,\n",
       "          1.08157219e-02, -1.05898809e-02, -1.52005616e-03],\n",
       "        [ 1.58164389e-02,  3.38992523e-03, -2.23509353e-02, ...,\n",
       "          1.95286470e-03, -7.18898326e-02, -8.88233818e-03],\n",
       "        [ 1.01624681e-02, -5.16264960e-02, -2.89599448e-02, ...,\n",
       "          3.29840817e-02, -2.09922232e-02,  1.78275332e-02],\n",
       "        [-8.94617348e-04,  1.97164640e-02, -9.64438636e-03, ...,\n",
       "          2.34126463e-03, -1.33365402e-02, -1.25717660e-02]],\n",
       "       shape=(5, 768)),\n",
       " 'documents': ['Virat Kohli is one of the most successful and consistent batsmen in IPL history. Known for his aggressive batting style and fitness, he has led the Royal Challengers Bangalore in multiple seasons.',\n",
       "  \"Rohit Sharma is the most successful captain in IPL history, leading Mumbai Indians to five titles. He's known for his calm demeanor and ability to play big innings under pressure.\",\n",
       "  'MS Dhoni, famously known as Captain Cool, has led Chennai Super Kings to multiple IPL titles. His finishing skills, wicketkeeping, and leadership are legendary.',\n",
       "  'Jasprit Bumrah is considered one of the best fast bowlers in T20 cricket. Playing for Mumbai Indians, he is known for his yorkers and death-over expertise.',\n",
       "  'Ravindra Jadeja is a dynamic all-rounder who contributes with both bat and ball. Representing Chennai Super Kings, his quick fielding and match-winning performances make him a key player.'],\n",
       " 'uris': None,\n",
       " 'included': ['embeddings', 'documents', 'metadatas'],\n",
       " 'data': None,\n",
       " 'metadatas': [{'team': 'Royal Challengers Bangalore'},\n",
       "  {'team': 'Mumbai Indians'},\n",
       "  {'team': 'Chennai Super Kings'},\n",
       "  {'team': 'Mumbai Indians'},\n",
       "  {'team': 'Chennai Super Kings'}]}"
      ]
     },
     "execution_count": 7,
     "metadata": {},
     "output_type": "execute_result"
    }
   ],
   "source": [
    "# view documents\n",
    "vector_store.get(include=['embeddings','documents', 'metadatas'])"
   ]
  },
  {
   "cell_type": "code",
   "execution_count": 8,
   "id": "0ad5bab4",
   "metadata": {},
   "outputs": [
    {
     "data": {
      "text/plain": [
       "[Document(metadata={'team': 'Mumbai Indians'}, page_content='Jasprit Bumrah is considered one of the best fast bowlers in T20 cricket. Playing for Mumbai Indians, he is known for his yorkers and death-over expertise.'),\n",
       " Document(metadata={'team': 'Royal Challengers Bangalore'}, page_content='Virat Kohli is one of the most successful and consistent batsmen in IPL history. Known for his aggressive batting style and fitness, he has led the Royal Challengers Bangalore in multiple seasons.')]"
      ]
     },
     "execution_count": 8,
     "metadata": {},
     "output_type": "execute_result"
    }
   ],
   "source": [
    "# search documents\n",
    "vector_store.similarity_search(\n",
    "    query='Who among these are a bowler?',\n",
    "    k=2\n",
    ")"
   ]
  },
  {
   "cell_type": "code",
   "execution_count": 9,
   "id": "913ee281",
   "metadata": {},
   "outputs": [
    {
     "data": {
      "text/plain": [
       "[(Document(metadata={'team': 'Mumbai Indians'}, page_content='Jasprit Bumrah is considered one of the best fast bowlers in T20 cricket. Playing for Mumbai Indians, he is known for his yorkers and death-over expertise.'),\n",
       "  0.770696222782135),\n",
       " (Document(metadata={'team': 'Royal Challengers Bangalore'}, page_content='Virat Kohli is one of the most successful and consistent batsmen in IPL history. Known for his aggressive batting style and fitness, he has led the Royal Challengers Bangalore in multiple seasons.'),\n",
       "  0.8030722737312317)]"
      ]
     },
     "execution_count": 9,
     "metadata": {},
     "output_type": "execute_result"
    }
   ],
   "source": [
    "# search with similarity score\n",
    "vector_store.similarity_search_with_score(\n",
    "    query='Who among these are a bowler?',\n",
    "    k=2\n",
    ")"
   ]
  },
  {
   "cell_type": "code",
   "execution_count": 10,
   "id": "4433542e",
   "metadata": {},
   "outputs": [
    {
     "data": {
      "text/plain": [
       "[(Document(metadata={'team': 'Chennai Super Kings'}, page_content='Ravindra Jadeja is a dynamic all-rounder who contributes with both bat and ball. Representing Chennai Super Kings, his quick fielding and match-winning performances make him a key player.'),\n",
       "  0.871087908744812),\n",
       " (Document(metadata={'team': 'Chennai Super Kings'}, page_content='MS Dhoni, famously known as Captain Cool, has led Chennai Super Kings to multiple IPL titles. His finishing skills, wicketkeeping, and leadership are legendary.'),\n",
       "  0.8778100609779358)]"
      ]
     },
     "execution_count": 10,
     "metadata": {},
     "output_type": "execute_result"
    }
   ],
   "source": [
    "# meta-data filtering\n",
    "vector_store.similarity_search_with_score(\n",
    "    query=\"\",\n",
    "    filter={\"team\": \"Chennai Super Kings\"}\n",
    ")"
   ]
  },
  {
   "cell_type": "code",
   "execution_count": 13,
   "id": "5d4b9733",
   "metadata": {},
   "outputs": [],
   "source": [
    "# update documents\n",
    "updated_doc1 = Document(\n",
    "    page_content=\"Virat Kohli, the former captain of Royal Challengers Bangalore (RCB), is renowned for his aggressive leadership and consistent batting performances. He holds the record for the most runs in IPL history, including multiple centuries in a single season. Despite RCB not winning an IPL title under his captaincy, Kohli's passion and fitness set a benchmark for the league. His ability to chase targets and anchor innings has made him one of the most dependable players in T20 cricket.\",\n",
    "    metadata={\"team\": \"Royal Challengers Bangalore\"}\n",
    ")\n",
    "\n",
    "vector_store.update_document(document_id='42664f11-4add-400a-88dc-39c3c5d26679', document=updated_doc1)\n"
   ]
  },
  {
   "cell_type": "code",
   "execution_count": 14,
   "id": "31765f01",
   "metadata": {},
   "outputs": [
    {
     "data": {
      "text/plain": [
       "{'ids': ['42664f11-4add-400a-88dc-39c3c5d26679',\n",
       "  '661467c8-89da-4a22-a098-3263d441fff8',\n",
       "  '896a4402-83d8-44b1-8e00-49a25521e7a8',\n",
       "  '986f9cbf-1cd9-4e1f-a9d6-17271229cd85',\n",
       "  'fabcae33-2526-4ba6-a572-bc9890bdc5dd'],\n",
       " 'embeddings': array([[ 0.02001663, -0.01274028, -0.02455907, ...,  0.00292782,\n",
       "         -0.01331383,  0.00581167],\n",
       "        [ 0.03188305, -0.03367956, -0.04391207, ...,  0.01081572,\n",
       "         -0.01058988, -0.00152006],\n",
       "        [ 0.01581644,  0.00338993, -0.02235094, ...,  0.00195286,\n",
       "         -0.07188983, -0.00888234],\n",
       "        [ 0.01016247, -0.0516265 , -0.02895994, ...,  0.03298408,\n",
       "         -0.02099222,  0.01782753],\n",
       "        [-0.00089462,  0.01971646, -0.00964439, ...,  0.00234126,\n",
       "         -0.01333654, -0.01257177]], shape=(5, 768)),\n",
       " 'documents': [\"Virat Kohli, the former captain of Royal Challengers Bangalore (RCB), is renowned for his aggressive leadership and consistent batting performances. He holds the record for the most runs in IPL history, including multiple centuries in a single season. Despite RCB not winning an IPL title under his captaincy, Kohli's passion and fitness set a benchmark for the league. His ability to chase targets and anchor innings has made him one of the most dependable players in T20 cricket.\",\n",
       "  \"Rohit Sharma is the most successful captain in IPL history, leading Mumbai Indians to five titles. He's known for his calm demeanor and ability to play big innings under pressure.\",\n",
       "  'MS Dhoni, famously known as Captain Cool, has led Chennai Super Kings to multiple IPL titles. His finishing skills, wicketkeeping, and leadership are legendary.',\n",
       "  'Jasprit Bumrah is considered one of the best fast bowlers in T20 cricket. Playing for Mumbai Indians, he is known for his yorkers and death-over expertise.',\n",
       "  'Ravindra Jadeja is a dynamic all-rounder who contributes with both bat and ball. Representing Chennai Super Kings, his quick fielding and match-winning performances make him a key player.'],\n",
       " 'uris': None,\n",
       " 'included': ['embeddings', 'documents', 'metadatas'],\n",
       " 'data': None,\n",
       " 'metadatas': [{'team': 'Royal Challengers Bangalore'},\n",
       "  {'team': 'Mumbai Indians'},\n",
       "  {'team': 'Chennai Super Kings'},\n",
       "  {'team': 'Mumbai Indians'},\n",
       "  {'team': 'Chennai Super Kings'}]}"
      ]
     },
     "execution_count": 14,
     "metadata": {},
     "output_type": "execute_result"
    }
   ],
   "source": [
    "# view documents\n",
    "vector_store.get(include=['embeddings','documents', 'metadatas'])"
   ]
  },
  {
   "cell_type": "code",
   "execution_count": 15,
   "id": "8d5ab0aa",
   "metadata": {},
   "outputs": [],
   "source": [
    "# delete document\n",
    "vector_store.delete(ids=['42664f11-4add-400a-88dc-39c3c5d26679'])"
   ]
  },
  {
   "cell_type": "code",
   "execution_count": 16,
   "id": "bd773b37",
   "metadata": {},
   "outputs": [
    {
     "data": {
      "text/plain": [
       "{'ids': ['661467c8-89da-4a22-a098-3263d441fff8',\n",
       "  '896a4402-83d8-44b1-8e00-49a25521e7a8',\n",
       "  '986f9cbf-1cd9-4e1f-a9d6-17271229cd85',\n",
       "  'fabcae33-2526-4ba6-a572-bc9890bdc5dd'],\n",
       " 'embeddings': array([[ 0.03188305, -0.03367956, -0.04391207, ...,  0.01081572,\n",
       "         -0.01058988, -0.00152006],\n",
       "        [ 0.01581644,  0.00338993, -0.02235094, ...,  0.00195286,\n",
       "         -0.07188983, -0.00888234],\n",
       "        [ 0.01016247, -0.0516265 , -0.02895994, ...,  0.03298408,\n",
       "         -0.02099222,  0.01782753],\n",
       "        [-0.00089462,  0.01971646, -0.00964439, ...,  0.00234126,\n",
       "         -0.01333654, -0.01257177]], shape=(4, 768)),\n",
       " 'documents': [\"Rohit Sharma is the most successful captain in IPL history, leading Mumbai Indians to five titles. He's known for his calm demeanor and ability to play big innings under pressure.\",\n",
       "  'MS Dhoni, famously known as Captain Cool, has led Chennai Super Kings to multiple IPL titles. His finishing skills, wicketkeeping, and leadership are legendary.',\n",
       "  'Jasprit Bumrah is considered one of the best fast bowlers in T20 cricket. Playing for Mumbai Indians, he is known for his yorkers and death-over expertise.',\n",
       "  'Ravindra Jadeja is a dynamic all-rounder who contributes with both bat and ball. Representing Chennai Super Kings, his quick fielding and match-winning performances make him a key player.'],\n",
       " 'uris': None,\n",
       " 'included': ['embeddings', 'documents', 'metadatas'],\n",
       " 'data': None,\n",
       " 'metadatas': [{'team': 'Mumbai Indians'},\n",
       "  {'team': 'Chennai Super Kings'},\n",
       "  {'team': 'Mumbai Indians'},\n",
       "  {'team': 'Chennai Super Kings'}]}"
      ]
     },
     "execution_count": 16,
     "metadata": {},
     "output_type": "execute_result"
    }
   ],
   "source": [
    "# view documents\n",
    "vector_store.get(include=['embeddings','documents', 'metadatas'])"
   ]
  },
  {
   "cell_type": "code",
   "execution_count": null,
   "id": "9d0ac334",
   "metadata": {},
   "outputs": [],
   "source": []
  }
 ],
 "metadata": {
  "kernelspec": {
   "display_name": "myenv (3.12.3)",
   "language": "python",
   "name": "python3"
  },
  "language_info": {
   "codemirror_mode": {
    "name": "ipython",
    "version": 3
   },
   "file_extension": ".py",
   "mimetype": "text/x-python",
   "name": "python",
   "nbconvert_exporter": "python",
   "pygments_lexer": "ipython3",
   "version": "3.12.3"
  }
 },
 "nbformat": 4,
 "nbformat_minor": 5
}
